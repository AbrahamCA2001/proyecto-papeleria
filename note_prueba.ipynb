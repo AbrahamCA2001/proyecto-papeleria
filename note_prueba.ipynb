{
  "nbformat": 4,
  "nbformat_minor": 0,
  "metadata": {
    "colab": {
      "provenance": []
    },
    "kernelspec": {
      "name": "python3",
      "display_name": "Python 3"
    },
    "language_info": {
      "name": "python"
    }
  },
  "cells": [
    {
      "cell_type": "code",
      "source": [
        "from google.colab import files\n",
        "files.upload()"
      ],
      "metadata": {
        "colab": {
          "base_uri": "https://localhost:8080/",
          "height": 561
        },
        "id": "QT4bhswosu9Z",
        "outputId": "661eff6f-ca57-4c48-e801-8a31a81fc1fe"
      },
      "execution_count": 1,
      "outputs": [
        {
          "output_type": "display_data",
          "data": {
            "text/plain": [
              "<IPython.core.display.HTML object>"
            ],
            "text/html": [
              "\n",
              "     <input type=\"file\" id=\"files-b634eb04-ab17-4e71-ac9e-2d1fe9b11a47\" name=\"files[]\" multiple disabled\n",
              "        style=\"border:none\" />\n",
              "     <output id=\"result-b634eb04-ab17-4e71-ac9e-2d1fe9b11a47\">\n",
              "      Upload widget is only available when the cell has been executed in the\n",
              "      current browser session. Please rerun this cell to enable.\n",
              "      </output>\n",
              "      <script>// Copyright 2017 Google LLC\n",
              "//\n",
              "// Licensed under the Apache License, Version 2.0 (the \"License\");\n",
              "// you may not use this file except in compliance with the License.\n",
              "// You may obtain a copy of the License at\n",
              "//\n",
              "//      http://www.apache.org/licenses/LICENSE-2.0\n",
              "//\n",
              "// Unless required by applicable law or agreed to in writing, software\n",
              "// distributed under the License is distributed on an \"AS IS\" BASIS,\n",
              "// WITHOUT WARRANTIES OR CONDITIONS OF ANY KIND, either express or implied.\n",
              "// See the License for the specific language governing permissions and\n",
              "// limitations under the License.\n",
              "\n",
              "/**\n",
              " * @fileoverview Helpers for google.colab Python module.\n",
              " */\n",
              "(function(scope) {\n",
              "function span(text, styleAttributes = {}) {\n",
              "  const element = document.createElement('span');\n",
              "  element.textContent = text;\n",
              "  for (const key of Object.keys(styleAttributes)) {\n",
              "    element.style[key] = styleAttributes[key];\n",
              "  }\n",
              "  return element;\n",
              "}\n",
              "\n",
              "// Max number of bytes which will be uploaded at a time.\n",
              "const MAX_PAYLOAD_SIZE = 100 * 1024;\n",
              "\n",
              "function _uploadFiles(inputId, outputId) {\n",
              "  const steps = uploadFilesStep(inputId, outputId);\n",
              "  const outputElement = document.getElementById(outputId);\n",
              "  // Cache steps on the outputElement to make it available for the next call\n",
              "  // to uploadFilesContinue from Python.\n",
              "  outputElement.steps = steps;\n",
              "\n",
              "  return _uploadFilesContinue(outputId);\n",
              "}\n",
              "\n",
              "// This is roughly an async generator (not supported in the browser yet),\n",
              "// where there are multiple asynchronous steps and the Python side is going\n",
              "// to poll for completion of each step.\n",
              "// This uses a Promise to block the python side on completion of each step,\n",
              "// then passes the result of the previous step as the input to the next step.\n",
              "function _uploadFilesContinue(outputId) {\n",
              "  const outputElement = document.getElementById(outputId);\n",
              "  const steps = outputElement.steps;\n",
              "\n",
              "  const next = steps.next(outputElement.lastPromiseValue);\n",
              "  return Promise.resolve(next.value.promise).then((value) => {\n",
              "    // Cache the last promise value to make it available to the next\n",
              "    // step of the generator.\n",
              "    outputElement.lastPromiseValue = value;\n",
              "    return next.value.response;\n",
              "  });\n",
              "}\n",
              "\n",
              "/**\n",
              " * Generator function which is called between each async step of the upload\n",
              " * process.\n",
              " * @param {string} inputId Element ID of the input file picker element.\n",
              " * @param {string} outputId Element ID of the output display.\n",
              " * @return {!Iterable<!Object>} Iterable of next steps.\n",
              " */\n",
              "function* uploadFilesStep(inputId, outputId) {\n",
              "  const inputElement = document.getElementById(inputId);\n",
              "  inputElement.disabled = false;\n",
              "\n",
              "  const outputElement = document.getElementById(outputId);\n",
              "  outputElement.innerHTML = '';\n",
              "\n",
              "  const pickedPromise = new Promise((resolve) => {\n",
              "    inputElement.addEventListener('change', (e) => {\n",
              "      resolve(e.target.files);\n",
              "    });\n",
              "  });\n",
              "\n",
              "  const cancel = document.createElement('button');\n",
              "  inputElement.parentElement.appendChild(cancel);\n",
              "  cancel.textContent = 'Cancel upload';\n",
              "  const cancelPromise = new Promise((resolve) => {\n",
              "    cancel.onclick = () => {\n",
              "      resolve(null);\n",
              "    };\n",
              "  });\n",
              "\n",
              "  // Wait for the user to pick the files.\n",
              "  const files = yield {\n",
              "    promise: Promise.race([pickedPromise, cancelPromise]),\n",
              "    response: {\n",
              "      action: 'starting',\n",
              "    }\n",
              "  };\n",
              "\n",
              "  cancel.remove();\n",
              "\n",
              "  // Disable the input element since further picks are not allowed.\n",
              "  inputElement.disabled = true;\n",
              "\n",
              "  if (!files) {\n",
              "    return {\n",
              "      response: {\n",
              "        action: 'complete',\n",
              "      }\n",
              "    };\n",
              "  }\n",
              "\n",
              "  for (const file of files) {\n",
              "    const li = document.createElement('li');\n",
              "    li.append(span(file.name, {fontWeight: 'bold'}));\n",
              "    li.append(span(\n",
              "        `(${file.type || 'n/a'}) - ${file.size} bytes, ` +\n",
              "        `last modified: ${\n",
              "            file.lastModifiedDate ? file.lastModifiedDate.toLocaleDateString() :\n",
              "                                    'n/a'} - `));\n",
              "    const percent = span('0% done');\n",
              "    li.appendChild(percent);\n",
              "\n",
              "    outputElement.appendChild(li);\n",
              "\n",
              "    const fileDataPromise = new Promise((resolve) => {\n",
              "      const reader = new FileReader();\n",
              "      reader.onload = (e) => {\n",
              "        resolve(e.target.result);\n",
              "      };\n",
              "      reader.readAsArrayBuffer(file);\n",
              "    });\n",
              "    // Wait for the data to be ready.\n",
              "    let fileData = yield {\n",
              "      promise: fileDataPromise,\n",
              "      response: {\n",
              "        action: 'continue',\n",
              "      }\n",
              "    };\n",
              "\n",
              "    // Use a chunked sending to avoid message size limits. See b/62115660.\n",
              "    let position = 0;\n",
              "    do {\n",
              "      const length = Math.min(fileData.byteLength - position, MAX_PAYLOAD_SIZE);\n",
              "      const chunk = new Uint8Array(fileData, position, length);\n",
              "      position += length;\n",
              "\n",
              "      const base64 = btoa(String.fromCharCode.apply(null, chunk));\n",
              "      yield {\n",
              "        response: {\n",
              "          action: 'append',\n",
              "          file: file.name,\n",
              "          data: base64,\n",
              "        },\n",
              "      };\n",
              "\n",
              "      let percentDone = fileData.byteLength === 0 ?\n",
              "          100 :\n",
              "          Math.round((position / fileData.byteLength) * 100);\n",
              "      percent.textContent = `${percentDone}% done`;\n",
              "\n",
              "    } while (position < fileData.byteLength);\n",
              "  }\n",
              "\n",
              "  // All done.\n",
              "  yield {\n",
              "    response: {\n",
              "      action: 'complete',\n",
              "    }\n",
              "  };\n",
              "}\n",
              "\n",
              "scope.google = scope.google || {};\n",
              "scope.google.colab = scope.google.colab || {};\n",
              "scope.google.colab._files = {\n",
              "  _uploadFiles,\n",
              "  _uploadFilesContinue,\n",
              "};\n",
              "})(self);\n",
              "</script> "
            ]
          },
          "metadata": {}
        },
        {
          "output_type": "stream",
          "name": "stdout",
          "text": [
            "Saving libreria.py to libreria.py\n"
          ]
        },
        {
          "output_type": "execute_result",
          "data": {
            "text/plain": [
              "{'libreria.py': b'# -*- coding: utf-8 -*-\\n\"\"\"libreria.py\\n\\nAutomatically generated by Colab.\\n\\nOriginal file is located at\\n    https://colab.research.google.com/drive/13gatUl1ydt8oEmuyaMts78v04CGJsBPs\\n\"\"\"\\n\\nimport pandas as pd\\nimport sqlite3 as sql\\nfrom datetime import datetime, timedelta\\nimport random as r\\nabcdario = [\\n    \\'A\\', \\'B\\', \\'C\\', \\'D\\', \\'E\\', \\'F\\', \\'G\\', \\'H\\', \\'I\\', \\'J\\',\\n    \\'K\\', \\'L\\', \\'M\\', \\'N\\', \\'O\\', \\'P\\', \\'Q\\', \\'R\\', \\'S\\', \\'T\\',\\n    \\'U\\', \\'V\\', \\'W\\', \\'X\\', \\'Y\\', \\'Z\\'\\n    ]\\npapelerias = [\\n    \\'Xochimilco\\', \\'Cuemanco\\', \\'Coapa\\', \\'Milpa Alta\\',\\n    \\'CU\\', \\'Z\\xc3\\xb3calo\\', \\'Narvarte\\', \\'Santa F\\xc3\\xa9\\', \\'Polanco\\',\\n    \\'Centro\\'\\n    ]\\nlineas = [\\n    \\'Cuadernos\\', \\'Libretas\\', \\'L\\xc3\\xa1pices\\', \\'Plumones\\', \\'Borradores\\', \\'Sacapuntas\\',\\n    \\'Laptops\\', \\'Tablets\\', \\'Mochilas\\', \\'Bolsas\\', \\'Cajas\\', \\'Pegamento\\', \\'Tijeras\\',\\n    \\'Monitores\\', \\'Teclados\\', \\'Mouse\\', \\'Aud\\xc3\\xadfonos\\', \\'Cables\\', \\'Cargadores\\', \\'Bater\\xc3\\xadas\\',\\n    \\'Pc\\', \\'Uniformes\\', \\'Pinturas\\', \\'Pinceles\\', \\'Papel\\', \\'Cartulinas\\'\\n    ]\\n\\ndef generar_df_ventas(fecha):\\n    # Generar n\\xc3\\xbamero aleatorio de ventas, como se pide en el punto 3\\n    n_ventas = r.randint(1, 10000)\\n\\n    # Resto del c\\xc3\\xb3digo\\n    fechas = []\\n    productos = []\\n    claves = []\\n    cantidades = []\\n    precios = []\\n    totales = []\\n    sucursales = []\\n\\n    for i in range(n_ventas):\\n        producto = r.choice(lineas)\\n        clave = r.choice(abcdario) + r.choice(abcdario) + r.choice(abcdario) + \\'-\\' + str(r.randint(1, 9)) + str(r.randint(1, 9)) + str(r.randint(1, 9))\\n        cantidad = r.randint(1, 50)\\n        precio = round(r.randint(1, 10000) * r.random(), 2)\\n        total = round(precio * cantidad, 2)\\n        sucursal = r.choice(papelerias)\\n\\n        fechas.append(fecha)\\n        productos.append(producto)\\n        claves.append(clave)\\n        cantidades.append(cantidad)\\n        precios.append(precio)\\n        totales.append(total)\\n        sucursales.append(sucursal)\\n\\n    dict_pre_ventas = {\\n        \"Fecha\": fechas,\\n        \"Producto\": productos,\\n        \"Clave\": claves,\\n        \"Cantidad\": cantidades,\\n        \"Precio\": precios,\\n        \"Total\": totales,\\n        \"Sucursal\": sucursales\\n    }\\n\\n    return pd.DataFrame(dict_pre_ventas)\\n\\ndef generar_ventas_fechas(fecha_inicio, fecha_fin, db_path):\\n    # Convertir strings a fechas inicial y final\\n    f_inicial = datetime.strptime(fecha_inicio, \"%Y-%m-%d\")\\n    f_final = datetime.strptime(fecha_fin, \"%Y-%m-%d\")\\n    ventasxdia = []  # Lista para dataframes de cada dia\\n\\n    while f_inicial <= f_final:\\n        fecha = f_inicial.strftime(\"%Y-%m-%d\")\\n        df_dia = generar_df_ventas(fecha) #corremos la funci\\xc3\\xb3n con la fecha actual\\n        ventasxdia.append(df_dia)\\n        f_inicial += timedelta(days=1)\\n\\n    df_final = pd.concat(ventasxdia, ignore_index=True)\\n\\n    # Conexi\\xc3\\xb3n y carga a SQLite\\n    conn = sql.connect(db_path)\\n    df_final.to_sql(\"ventas\", conn, if_exists=\"append\", index=False)\\n    conn.close()\\n\\n    print(f\"\\xc2\\xa1Listo! Se generaron {len(df_final)} ventas entre {fecha_inicio} y {fecha_fin}.\")'}"
            ]
          },
          "metadata": {},
          "execution_count": 1
        }
      ]
    },
    {
      "cell_type": "code",
      "source": [
        "from libreria import generar_ventas_fechas\n",
        "generar_ventas_fechas(\"2025-01-01\", \"2025-01-31\", db_path=\"ventas.db\")"
      ],
      "metadata": {
        "colab": {
          "base_uri": "https://localhost:8080/"
        },
        "id": "DzMBEKyjX1zC",
        "outputId": "8a07522f-d755-409e-94be-b33eede17340"
      },
      "execution_count": 8,
      "outputs": [
        {
          "output_type": "stream",
          "name": "stdout",
          "text": [
            "¡Listo! Se generaron 27331 ventas entre 2025-01-01 y 2025-01-05.\n"
          ]
        }
      ]
    },
    {
      "cell_type": "code",
      "source": [
        "#Abrimos conexión con la base de datos para leer la tabla 'ventas' y cargarla\n",
        "import pandas as pd\n",
        "import sqlite3 as sql\n",
        "from datetime import datetime, timedelta\n",
        "import random as r\n",
        "conn = sql.connect(\"ventas.db\")\n",
        "df_ventas = pd.read_sql_query(\"SELECT * FROM ventas\", conn)\n",
        "conn.close()\n",
        "# Mostramos\n",
        "print(df_ventas.head())"
      ],
      "metadata": {
        "colab": {
          "base_uri": "https://localhost:8080/"
        },
        "id": "yX4sybGFY6J6",
        "outputId": "5f1031cd-25dd-47a3-daee-0af3507e601d"
      },
      "execution_count": 11,
      "outputs": [
        {
          "output_type": "stream",
          "name": "stdout",
          "text": [
            "        Fecha  Producto    Clave  Cantidad   Precio      Total    Sucursal\n",
            "0  2025-01-01     Papel  KOT-144        33   479.18   15812.94          CU\n",
            "1  2025-01-01  Baterías  PPZ-218        45     4.11     184.95       Coapa\n",
            "2  2025-01-01  Baterías  XWH-513        49  5905.96  289392.04          CU\n",
            "3  2025-01-01   Lápices  EJD-465        22   855.85   18828.70  Milpa Alta\n",
            "4  2025-01-01   Lápices  XSR-746        17  5883.95  100027.15      Centro\n"
          ]
        }
      ]
    }
  ]
}
